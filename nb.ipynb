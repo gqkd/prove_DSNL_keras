{
  "cells": [
    {
      "cell_type": "code",
      "execution_count": 1,
      "metadata": {
        "id": "Sylp3bolJmXg",
        "outputId": "3738e16d-1e6d-42dc-9374-838ac2872367",
        "colab": {
          "base_uri": "https://localhost:8080/"
        }
      },
      "outputs": [
        {
          "output_type": "stream",
          "name": "stdout",
          "text": [
            "Mounted at /content/drive\n",
            "Looking in indexes: https://pypi.org/simple, https://us-python.pkg.dev/colab-wheels/public/simple/\n",
            "Collecting mne==0.14\n",
            "  Downloading mne-0.14.tar.gz (5.7 MB)\n",
            "\u001b[K     |████████████████████████████████| 5.7 MB 4.8 MB/s \n",
            "\u001b[?25hBuilding wheels for collected packages: mne\n",
            "  Building wheel for mne (setup.py) ... \u001b[?25l\u001b[?25hdone\n",
            "  Created wheel for mne: filename=mne-0.14-py3-none-any.whl size=5847172 sha256=d7e07986750fa29398dc5c542813e0321d5767ad08486fc0c913955d96f69fe8\n",
            "  Stored in directory: /root/.cache/pip/wheels/23/35/90/d40695adfedcb7d358976a4222ff6ff317459781d406cc990e\n",
            "Successfully built mne\n",
            "Installing collected packages: mne\n",
            "Successfully installed mne-0.14\n",
            "/content/drive/MyDrive/prove_DSNL_keras\n"
          ]
        }
      ],
      "source": [
        "from google.colab import drive\n",
        "drive.mount('/content/drive')\n",
        "import os\n",
        "%pip install mne==0.14\n",
        "%cd drive/MyDrive/prove_DSNL_keras/"
      ]
    },
    {
      "cell_type": "code",
      "source": [
        "# chmod +x download_physionet.sh\n",
        "# !chmod +x nb.ipynb\n",
        "# !chmod +x train.ipynb\n",
        "# ./download_physionet.sh\n",
        "\n",
        "# python prepare_physionet_original.py --data_dir data --output_dir data/eeg_fpz_cz --select_ch 'EEG Fpz-Cz'\n",
        "# python prepare_physionet_original.py --data_dir data --output_dir data/eeg_pz_oz --select_ch 'EEG Pz-Oz'"
      ],
      "metadata": {
        "id": "dNUTA6GdJvYI",
        "outputId": "d80a046a-745f-43cd-92c1-e1d71aeda68d",
        "colab": {
          "base_uri": "https://localhost:8080/"
        }
      },
      "execution_count": 24,
      "outputs": [
        {
          "output_type": "stream",
          "name": "stdout",
          "text": [
            "chmod: cannot access 'train.ipynb': No such file or directory\n"
          ]
        }
      ]
    },
    {
      "cell_type": "code",
      "source": [
        "!git pull https://github.com/gqkd/prove_DSNL_keras.git"
      ],
      "metadata": {
        "id": "Z4XerfCfLOey",
        "outputId": "6581969b-e4e1-44f4-b97f-3f24e0520877",
        "colab": {
          "base_uri": "https://localhost:8080/"
        }
      },
      "execution_count": 4,
      "outputs": [
        {
          "output_type": "stream",
          "name": "stdout",
          "text": [
            "remote: Enumerating objects: 28, done.\u001b[K\n",
            "remote: Counting objects:   3% (1/28)\u001b[K\rremote: Counting objects:   7% (2/28)\u001b[K\rremote: Counting objects:  10% (3/28)\u001b[K\rremote: Counting objects:  14% (4/28)\u001b[K\rremote: Counting objects:  17% (5/28)\u001b[K\rremote: Counting objects:  21% (6/28)\u001b[K\rremote: Counting objects:  25% (7/28)\u001b[K\rremote: Counting objects:  28% (8/28)\u001b[K\rremote: Counting objects:  32% (9/28)\u001b[K\rremote: Counting objects:  35% (10/28)\u001b[K\rremote: Counting objects:  39% (11/28)\u001b[K\rremote: Counting objects:  42% (12/28)\u001b[K\rremote: Counting objects:  46% (13/28)\u001b[K\rremote: Counting objects:  50% (14/28)\u001b[K\rremote: Counting objects:  53% (15/28)\u001b[K\rremote: Counting objects:  57% (16/28)\u001b[K\rremote: Counting objects:  60% (17/28)\u001b[K\rremote: Counting objects:  64% (18/28)\u001b[K\rremote: Counting objects:  67% (19/28)\u001b[K\rremote: Counting objects:  71% (20/28)\u001b[K\rremote: Counting objects:  75% (21/28)\u001b[K\rremote: Counting objects:  78% (22/28)\u001b[K\rremote: Counting objects:  82% (23/28)\u001b[K\rremote: Counting objects:  85% (24/28)\u001b[K\rremote: Counting objects:  89% (25/28)\u001b[K\rremote: Counting objects:  92% (26/28)\u001b[K\rremote: Counting objects:  96% (27/28)\u001b[K\rremote: Counting objects: 100% (28/28)\u001b[K\rremote: Counting objects: 100% (28/28), done.\u001b[K\n",
            "remote: Compressing objects:   6% (1/16)\u001b[K\rremote: Compressing objects:  12% (2/16)\u001b[K\rremote: Compressing objects:  18% (3/16)\u001b[K\rremote: Compressing objects:  25% (4/16)\u001b[K\rremote: Compressing objects:  31% (5/16)\u001b[K\rremote: Compressing objects:  37% (6/16)\u001b[K\rremote: Compressing objects:  43% (7/16)\u001b[K\rremote: Compressing objects:  50% (8/16)\u001b[K\rremote: Compressing objects:  56% (9/16)\u001b[K\rremote: Compressing objects:  62% (10/16)\u001b[K\rremote: Compressing objects:  68% (11/16)\u001b[K\rremote: Compressing objects:  75% (12/16)\u001b[K\rremote: Compressing objects:  81% (13/16)\u001b[K\rremote: Compressing objects:  87% (14/16)\u001b[K\rremote: Compressing objects:  93% (15/16)\u001b[K\rremote: Compressing objects: 100% (16/16)\u001b[K\rremote: Compressing objects: 100% (16/16), done.\u001b[K\n",
            "remote: Total 23 (delta 14), reused 13 (delta 7), pack-reused 0\u001b[K\n",
            "Unpacking objects: 100% (23/23), done.\n",
            "From https://github.com/gqkd/prove_DSNL_keras\n",
            " * branch            HEAD       -> FETCH_HEAD\n",
            "Updating 8a8f3ac..65d8cbf\n",
            "error: Your local changes to the following files would be overwritten by merge:\n",
            "\tdata_prep.py\n",
            "\tmodel_cnn.py\n",
            "\tnb.ipynb\n",
            "\ttrain.py\n",
            "Please commit your changes or stash them before you merge.\n",
            "Aborting\n"
          ]
        }
      ]
    },
    {
      "cell_type": "code",
      "source": [
        "!pwd"
      ],
      "metadata": {
        "id": "ZPHimjkrkQ9P",
        "outputId": "c7bd1ff4-d2b9-407c-a589-b1a41e65cb9d",
        "colab": {
          "base_uri": "https://localhost:8080/"
        }
      },
      "execution_count": 23,
      "outputs": [
        {
          "output_type": "stream",
          "name": "stdout",
          "text": [
            "/content/drive/MyDrive/prove_DSNL_keras\n"
          ]
        }
      ]
    },
    {
      "cell_type": "code",
      "source": [
        "pwd = os.getcwd()\n",
        "log_dir=\"/logs/base_fit/\"\n",
        "path = pwd + log_dir\n",
        "if not os.path.exists(path):\n",
        "    os.makedirs(path)"
      ],
      "metadata": {
        "id": "5lmcriQikYxk"
      },
      "execution_count": 5,
      "outputs": []
    },
    {
      "cell_type": "code",
      "source": [
        "from data_prep import data_loader\n",
        "X_train, X_valid, y_train, y_valid = data_loader()"
      ],
      "metadata": {
        "id": "NrD7ogaNy8uk"
      },
      "execution_count": 25,
      "outputs": []
    },
    {
      "cell_type": "code",
      "source": [
        "from train import trainer\n",
        "\n",
        "history = trainer(X_train, X_valid, y_train, y_valid,epochs=10,log_dir=\"/logs/base_fit/\")"
      ],
      "metadata": {
        "id": "yLiDWSmoLl-5",
        "outputId": "03f96ac1-467a-4a8f-91ca-4bc986e78e39",
        "colab": {
          "base_uri": "https://localhost:8080/"
        }
      },
      "execution_count": 27,
      "outputs": [
        {
          "output_type": "stream",
          "name": "stdout",
          "text": [
            "Epoch 1/10\n",
            "1055/1055 [==============================] - 879s 829ms/step - loss: 1.5714 - accuracy: 0.6411 - auc: 0.8768 - precision: 0.6578 - recall: 0.6242 - val_loss: 6.2250 - val_accuracy: 0.4318 - val_auc: 0.6733 - val_precision: 0.4321 - val_recall: 0.4318\n",
            "Epoch 2/10\n",
            "1055/1055 [==============================] - 878s 832ms/step - loss: 0.9458 - accuracy: 0.7679 - auc: 0.9371 - precision: 0.7812 - recall: 0.7565 - val_loss: 6.9241 - val_accuracy: 0.3094 - val_auc: 0.6409 - val_precision: 0.3093 - val_recall: 0.3093\n",
            "Epoch 3/10\n",
            "1055/1055 [==============================] - 881s 835ms/step - loss: 0.7757 - accuracy: 0.7963 - auc: 0.9498 - precision: 0.8129 - recall: 0.7826 - val_loss: 5.0074 - val_accuracy: 0.3340 - val_auc: 0.6687 - val_precision: 0.3360 - val_recall: 0.3333\n",
            "Epoch 4/10\n",
            "1055/1055 [==============================] - 874s 829ms/step - loss: 0.6796 - accuracy: 0.8091 - auc: 0.9570 - precision: 0.8274 - recall: 0.7916 - val_loss: 1.2935 - val_accuracy: 0.6482 - val_auc: 0.8666 - val_precision: 0.6949 - val_recall: 0.5965\n",
            "Epoch 5/10\n",
            "1055/1055 [==============================] - 869s 823ms/step - loss: 0.5869 - accuracy: 0.8210 - auc: 0.9635 - precision: 0.8415 - recall: 0.8017 - val_loss: 2.3047 - val_accuracy: 0.6528 - val_auc: 0.8235 - val_precision: 0.6555 - val_recall: 0.6482\n",
            "Epoch 6/10\n",
            "1055/1055 [==============================] - 871s 826ms/step - loss: 0.5394 - accuracy: 0.8276 - auc: 0.9662 - precision: 0.8480 - recall: 0.8063 - val_loss: 4.5216 - val_accuracy: 0.4230 - val_auc: 0.6874 - val_precision: 0.4235 - val_recall: 0.4138\n",
            "Epoch 7/10\n",
            "1055/1055 [==============================] - 862s 817ms/step - loss: 0.4853 - accuracy: 0.8388 - auc: 0.9712 - precision: 0.8608 - recall: 0.8166 - val_loss: 5.6998 - val_accuracy: 0.2492 - val_auc: 0.5266 - val_precision: 0.2496 - val_recall: 0.2488\n",
            "Epoch 8/10\n",
            "1055/1055 [==============================] - 868s 823ms/step - loss: 0.4510 - accuracy: 0.8444 - auc: 0.9743 - precision: 0.8670 - recall: 0.8223 - val_loss: 5.5484 - val_accuracy: 0.1953 - val_auc: 0.4730 - val_precision: 0.1953 - val_recall: 0.1953\n",
            "Epoch 9/10\n",
            "1055/1055 [==============================] - 855s 811ms/step - loss: 0.4290 - accuracy: 0.8506 - auc: 0.9764 - precision: 0.8723 - recall: 0.8287 - val_loss: 3.3698 - val_accuracy: 0.3241 - val_auc: 0.7217 - val_precision: 0.3252 - val_recall: 0.3215\n",
            "Epoch 10/10\n",
            "1055/1055 [==============================] - 888s 842ms/step - loss: 0.4038 - accuracy: 0.8571 - auc: 0.9786 - precision: 0.8800 - recall: 0.8342 - val_loss: 1.7964 - val_accuracy: 0.4072 - val_auc: 0.7500 - val_precision: 0.4383 - val_recall: 0.3523\n",
            "INFO:tensorflow:Assets written to: content/drive/MyDrive/prove_DSNL_keras/logs/base_fit/models/2022_07_06-1556/assets\n"
          ]
        }
      ]
    }
  ],
  "metadata": {
    "kernelspec": {
      "display_name": "Python 3.8.10 64-bit",
      "language": "python",
      "name": "python3"
    },
    "language_info": {
      "name": "python",
      "version": "3.8.10"
    },
    "orig_nbformat": 4,
    "vscode": {
      "interpreter": {
        "hash": "916dbcbb3f70747c44a77c7bcd40155683ae19c65e1c03b4aa3499c5328201f1"
      }
    },
    "colab": {
      "name": "nb.ipynb",
      "provenance": []
    }
  },
  "nbformat": 4,
  "nbformat_minor": 0
}
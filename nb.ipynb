{
  "cells": [
    {
      "cell_type": "code",
      "execution_count": 1,
      "metadata": {
        "id": "Sylp3bolJmXg",
        "outputId": "e9a26b6e-acff-4bf3-ad93-1392b056d9b0",
        "colab": {
          "base_uri": "https://localhost:8080/"
        }
      },
      "outputs": [
        {
          "output_type": "stream",
          "name": "stdout",
          "text": [
            "Mounted at /content/drive\n",
            "Looking in indexes: https://pypi.org/simple, https://us-python.pkg.dev/colab-wheels/public/simple/\n",
            "Collecting mne==0.14\n",
            "  Downloading mne-0.14.tar.gz (5.7 MB)\n",
            "\u001b[K     |████████████████████████████████| 5.7 MB 4.2 MB/s \n",
            "\u001b[?25hBuilding wheels for collected packages: mne\n",
            "  Building wheel for mne (setup.py) ... \u001b[?25l\u001b[?25hdone\n",
            "  Created wheel for mne: filename=mne-0.14-py3-none-any.whl size=5847172 sha256=1aaddbddbf1f44d0c34e4026ddd831871354a442824befe50f5b18712f5a16ef\n",
            "  Stored in directory: /root/.cache/pip/wheels/23/35/90/d40695adfedcb7d358976a4222ff6ff317459781d406cc990e\n",
            "Successfully built mne\n",
            "Installing collected packages: mne\n",
            "Successfully installed mne-0.14\n",
            "/content/drive/MyDrive/prove_DSNL_keras\n"
          ]
        }
      ],
      "source": [
        "from google.colab import drive\n",
        "drive.mount('/content/drive')\n",
        "import os\n",
        "%pip install mne==0.14\n",
        "%cd drive/MyDrive/prove_DSNL_keras/"
      ]
    },
    {
      "cell_type": "code",
      "source": [
        "# chmod +x download_physionet.sh\n",
        "# ./download_physionet.sh\n",
        "\n",
        "# python prepare_physionet_original.py --data_dir data --output_dir data/eeg_fpz_cz --select_ch 'EEG Fpz-Cz'\n",
        "# python prepare_physionet_original.py --data_dir data --output_dir data/eeg_pz_oz --select_ch 'EEG Pz-Oz'"
      ],
      "metadata": {
        "id": "dNUTA6GdJvYI"
      },
      "execution_count": null,
      "outputs": []
    },
    {
      "cell_type": "code",
      "source": [
        "!git pull https://github.com/gqkd/prove_DSNL_keras.git"
      ],
      "metadata": {
        "id": "Z4XerfCfLOey",
        "outputId": "ee7e6733-b893-4d00-daf8-e14e955047a8",
        "colab": {
          "base_uri": "https://localhost:8080/"
        }
      },
      "execution_count": 2,
      "outputs": [
        {
          "output_type": "stream",
          "name": "stdout",
          "text": [
            "remote: Enumerating objects: 13, done.\u001b[K\n",
            "remote: Counting objects:   7% (1/13)\u001b[K\rremote: Counting objects:  15% (2/13)\u001b[K\rremote: Counting objects:  23% (3/13)\u001b[K\rremote: Counting objects:  30% (4/13)\u001b[K\rremote: Counting objects:  38% (5/13)\u001b[K\rremote: Counting objects:  46% (6/13)\u001b[K\rremote: Counting objects:  53% (7/13)\u001b[K\rremote: Counting objects:  61% (8/13)\u001b[K\rremote: Counting objects:  69% (9/13)\u001b[K\rremote: Counting objects:  76% (10/13)\u001b[K\rremote: Counting objects:  84% (11/13)\u001b[K\rremote: Counting objects:  92% (12/13)\u001b[K\rremote: Counting objects: 100% (13/13)\u001b[K\rremote: Counting objects: 100% (13/13), done.\u001b[K\n",
            "remote: Compressing objects:  16% (1/6)\u001b[K\rremote: Compressing objects:  33% (2/6)\u001b[K\rremote: Compressing objects:  50% (3/6)\u001b[K\rremote: Compressing objects:  66% (4/6)\u001b[K\rremote: Compressing objects:  83% (5/6)\u001b[K\rremote: Compressing objects: 100% (6/6)\u001b[K\rremote: Compressing objects: 100% (6/6), done.\u001b[K\n",
            "remote: Total 9 (delta 6), reused 5 (delta 3), pack-reused 0\u001b[K\n",
            "Unpacking objects: 100% (9/9), done.\n",
            "From https://github.com/gqkd/prove_DSNL_keras\n",
            " * branch            HEAD       -> FETCH_HEAD\n",
            "Updating 8a8f3ac..d5760d7\n",
            "error: Your local changes to the following files would be overwritten by merge:\n",
            "\tmodel_cnn.py\n",
            "\ttrain.py\n",
            "Please commit your changes or stash them before you merge.\n",
            "Aborting\n"
          ]
        }
      ]
    },
    {
      "cell_type": "code",
      "source": [
        "!pwd"
      ],
      "metadata": {
        "id": "ZPHimjkrkQ9P",
        "outputId": "947b690b-9771-4753-f874-587419cec884",
        "colab": {
          "base_uri": "https://localhost:8080/"
        }
      },
      "execution_count": 3,
      "outputs": [
        {
          "output_type": "stream",
          "name": "stdout",
          "text": [
            "/content/drive/MyDrive/prove_DSNL_keras\n"
          ]
        }
      ]
    },
    {
      "cell_type": "code",
      "source": [
        "pwd = os.getcwd()\n",
        "log_dir=\"/logs/base_fit/\"\n",
        "path = pwd + log_dir\n",
        "if not os.path.exists(path):\n",
        "    os.makedirs(path)"
      ],
      "metadata": {
        "id": "5lmcriQikYxk"
      },
      "execution_count": 4,
      "outputs": []
    },
    {
      "cell_type": "code",
      "source": [
        "from data_prep import data_loader\n",
        "X_train, X_valid, y_train, y_valid = data_loader()"
      ],
      "metadata": {
        "id": "NrD7ogaNy8uk"
      },
      "execution_count": 9,
      "outputs": []
    },
    {
      "cell_type": "code",
      "source": [
        "from train import trainer\n",
        "\n",
        "history = trainer(X_train, X_valid, y_train, y_valid,epochs=12)\n"
      ],
      "metadata": {
        "id": "yLiDWSmoLl-5",
        "outputId": "06215592-e3d4-40c6-b3ba-a2b330745a04",
        "colab": {
          "base_uri": "https://localhost:8080/"
        }
      },
      "execution_count": 11,
      "outputs": [
        {
          "output_type": "stream",
          "name": "stdout",
          "text": [
            "Epoch 1/12\n",
            "352/352 [==============================] - 277s 776ms/step - loss: 2.1938 - accuracy: 0.5376 - auc: 0.8089 - precision: 0.5504 - recall: 0.5143 - val_loss: 3.9102 - val_accuracy: 0.4293 - val_auc: 0.6535 - val_precision: 0.4293 - val_recall: 0.4293\n",
            "Epoch 2/12\n",
            "352/352 [==============================] - 265s 753ms/step - loss: 1.4026 - accuracy: 0.6668 - auc: 0.8928 - precision: 0.6841 - recall: 0.6507 - val_loss: 5.7038 - val_accuracy: 0.5000 - val_auc: 0.7047 - val_precision: 0.5000 - val_recall: 0.5000\n",
            "Epoch 3/12\n",
            "352/352 [==============================] - 261s 742ms/step - loss: 1.1693 - accuracy: 0.7118 - auc: 0.9152 - precision: 0.7272 - recall: 0.6989 - val_loss: 4.9606 - val_accuracy: 0.1871 - val_auc: 0.5638 - val_precision: 0.1867 - val_recall: 0.1811\n",
            "Epoch 4/12\n",
            "352/352 [==============================] - 257s 731ms/step - loss: 0.9654 - accuracy: 0.7620 - auc: 0.9349 - precision: 0.7771 - recall: 0.7504 - val_loss: 77.3477 - val_accuracy: 0.1843 - val_auc: 0.4902 - val_precision: 0.1843 - val_recall: 0.1843\n",
            "Epoch 5/12\n",
            "352/352 [==============================] - 256s 727ms/step - loss: 0.9106 - accuracy: 0.7805 - auc: 0.9415 - precision: 0.7955 - recall: 0.7689 - val_loss: 10.4590 - val_accuracy: 0.2504 - val_auc: 0.5388 - val_precision: 0.2504 - val_recall: 0.2500\n",
            "Epoch 6/12\n",
            "352/352 [==============================] - 250s 712ms/step - loss: 0.8142 - accuracy: 0.7868 - auc: 0.9473 - precision: 0.8009 - recall: 0.7754 - val_loss: 3.9108 - val_accuracy: 0.3441 - val_auc: 0.6786 - val_precision: 0.3502 - val_recall: 0.3388\n",
            "Epoch 7/12\n",
            "352/352 [==============================] - 263s 748ms/step - loss: 0.7649 - accuracy: 0.8015 - auc: 0.9521 - precision: 0.8179 - recall: 0.7903 - val_loss: 5.3331 - val_accuracy: 0.2990 - val_auc: 0.5722 - val_precision: 0.3023 - val_recall: 0.2990\n",
            "Epoch 8/12\n",
            "352/352 [==============================] - 259s 736ms/step - loss: 0.7310 - accuracy: 0.8093 - auc: 0.9543 - precision: 0.8252 - recall: 0.7948 - val_loss: 11.2328 - val_accuracy: 0.1939 - val_auc: 0.4873 - val_precision: 0.1956 - val_recall: 0.1939\n",
            "Epoch 9/12\n",
            "352/352 [==============================] - 252s 714ms/step - loss: 0.7211 - accuracy: 0.8127 - auc: 0.9538 - precision: 0.8292 - recall: 0.7960 - val_loss: 5.7943 - val_accuracy: 0.5344 - val_auc: 0.7317 - val_precision: 0.5350 - val_recall: 0.5344\n",
            "Epoch 10/12\n",
            "352/352 [==============================] - 254s 721ms/step - loss: 0.7043 - accuracy: 0.8172 - auc: 0.9560 - precision: 0.8340 - recall: 0.8006 - val_loss: 3.4689 - val_accuracy: 0.2116 - val_auc: 0.6433 - val_precision: 0.2095 - val_recall: 0.2013\n",
            "Epoch 11/12\n",
            "352/352 [==============================] - 265s 754ms/step - loss: 0.6289 - accuracy: 0.8266 - auc: 0.9610 - precision: 0.8444 - recall: 0.8107 - val_loss: 1.9800 - val_accuracy: 0.3423 - val_auc: 0.7358 - val_precision: 0.3592 - val_recall: 0.3054\n",
            "Epoch 12/12\n",
            "352/352 [==============================] - 256s 727ms/step - loss: 0.6069 - accuracy: 0.8248 - auc: 0.9625 - precision: 0.8436 - recall: 0.8077 - val_loss: 18.6192 - val_accuracy: 0.1953 - val_auc: 0.4912 - val_precision: 0.1953 - val_recall: 0.1953\n",
            "INFO:tensorflow:Assets written to: /logs/base_fit/models/2022_07_05-1604/assets\n"
          ]
        }
      ]
    },
    {
      "cell_type": "code",
      "source": [
        ""
      ],
      "metadata": {
        "id": "E9jZYjQZ68wf"
      },
      "execution_count": null,
      "outputs": []
    }
  ],
  "metadata": {
    "kernelspec": {
      "display_name": "Python 3.8.10 64-bit",
      "language": "python",
      "name": "python3"
    },
    "language_info": {
      "name": "python",
      "version": "3.8.10"
    },
    "orig_nbformat": 4,
    "vscode": {
      "interpreter": {
        "hash": "916dbcbb3f70747c44a77c7bcd40155683ae19c65e1c03b4aa3499c5328201f1"
      }
    },
    "colab": {
      "name": "nb.ipynb",
      "provenance": []
    }
  },
  "nbformat": 4,
  "nbformat_minor": 0
}
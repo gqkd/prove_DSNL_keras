{
  "cells": [
    {
      "cell_type": "code",
      "execution_count": 2,
      "metadata": {
        "id": "Sylp3bolJmXg",
        "outputId": "79061e43-202d-407b-ffff-bc38ea65d8be",
        "colab": {
          "base_uri": "https://localhost:8080/"
        }
      },
      "outputs": [
        {
          "output_type": "stream",
          "name": "stdout",
          "text": [
            "Mounted at /content/drive\n"
          ]
        }
      ],
      "source": [
        "from google.colab import drive\n",
        "drive.mount('/content/drive')"
      ]
    },
    {
      "cell_type": "code",
      "source": [
        "# chmod +x download_physionet.sh\n",
        "# ./download_physionet.sh\n",
        "\n",
        "# python prepare_physionet_original.py --data_dir data --output_dir data/eeg_fpz_cz --select_ch 'EEG Fpz-Cz'\n",
        "# python prepare_physionet_original.py --data_dir data --output_dir data/eeg_pz_oz --select_ch 'EEG Pz-Oz'"
      ],
      "metadata": {
        "id": "dNUTA6GdJvYI"
      },
      "execution_count": null,
      "outputs": []
    },
    {
      "cell_type": "code",
      "source": [
        "%cd drive/MyDrive/prove_DSNL_keras/"
      ],
      "metadata": {
        "id": "O5c-WhChKk_E",
        "outputId": "d1fefbea-efeb-4cc9-fcda-4ad8f6807786",
        "colab": {
          "base_uri": "https://localhost:8080/"
        }
      },
      "execution_count": 4,
      "outputs": [
        {
          "output_type": "stream",
          "name": "stdout",
          "text": [
            "/content/drive/MyDrive/prove_DSNL_keras\n"
          ]
        }
      ]
    },
    {
      "cell_type": "code",
      "source": [
        "!pip install mne==0.14"
      ],
      "metadata": {
        "id": "1Ukury-UKpjD",
        "outputId": "5086ff69-7294-4466-beca-233d492141f0",
        "colab": {
          "base_uri": "https://localhost:8080/"
        }
      },
      "execution_count": 6,
      "outputs": [
        {
          "output_type": "stream",
          "name": "stdout",
          "text": [
            "Looking in indexes: https://pypi.org/simple, https://us-python.pkg.dev/colab-wheels/public/simple/\n",
            "Collecting mne==0.14\n",
            "  Downloading mne-0.14.tar.gz (5.7 MB)\n",
            "\u001b[K     |████████████████████████████████| 5.7 MB 25.7 MB/s \n",
            "\u001b[?25hBuilding wheels for collected packages: mne\n",
            "  Building wheel for mne (setup.py) ... \u001b[?25l\u001b[?25hdone\n",
            "  Created wheel for mne: filename=mne-0.14-py3-none-any.whl size=5847172 sha256=ae9ed8e36e2ad9fb5be224f683fc5dba9c33ee6f66bfa7eb4c21fb5ac7412bf9\n",
            "  Stored in directory: /root/.cache/pip/wheels/23/35/90/d40695adfedcb7d358976a4222ff6ff317459781d406cc990e\n",
            "Successfully built mne\n",
            "Installing collected packages: mne\n",
            "Successfully installed mne-0.14\n"
          ]
        }
      ]
    },
    {
      "cell_type": "code",
      "source": [
        "!git pull https://github.com/gqkd/prove_DSNL_keras.git"
      ],
      "metadata": {
        "id": "Z4XerfCfLOey",
        "outputId": "8f992294-aae9-41a6-cdc7-e8ea2c59f6a0",
        "colab": {
          "base_uri": "https://localhost:8080/"
        }
      },
      "execution_count": 8,
      "outputs": [
        {
          "output_type": "stream",
          "name": "stdout",
          "text": [
            "remote: Enumerating objects: 5, done.\u001b[K\n",
            "remote: Counting objects:  20% (1/5)\u001b[K\rremote: Counting objects:  40% (2/5)\u001b[K\rremote: Counting objects:  60% (3/5)\u001b[K\rremote: Counting objects:  80% (4/5)\u001b[K\rremote: Counting objects: 100% (5/5)\u001b[K\rremote: Counting objects: 100% (5/5), done.\u001b[K\n",
            "remote: Compressing objects: 100% (1/1)\u001b[K\rremote: Compressing objects: 100% (1/1), done.\u001b[K\n",
            "remote: Total 3 (delta 2), reused 3 (delta 2), pack-reused 0\u001b[K\n",
            "Unpacking objects: 100% (3/3), done.\n",
            "From https://github.com/gqkd/prove_DSNL_keras\n",
            " * branch            HEAD       -> FETCH_HEAD\n",
            "Updating 583fb1c..69f624c\n",
            "Fast-forward\n",
            " data_loader.py | 2 \u001b[32m+\u001b[m\u001b[31m-\u001b[m\n",
            " 1 file changed, 1 insertion(+), 1 deletion(-)\n"
          ]
        }
      ]
    },
    {
      "cell_type": "code",
      "source": [
        "!python trainer.py"
      ],
      "metadata": {
        "id": "yLiDWSmoLl-5",
        "outputId": "f8d401f7-894a-4d39-cc69-be90eba813f4",
        "colab": {
          "base_uri": "https://localhost:8080/"
        }
      },
      "execution_count": 9,
      "outputs": [
        {
          "output_type": "stream",
          "name": "stdout",
          "text": [
            "4 -th fold out of 20-fold cross validation\n",
            "Traceback (most recent call last):\n",
            "  File \"trainer.py\", line 51, in <module>\n",
            "    d.load_train(i)\n",
            "  File \"/content/drive/MyDrive/prove_DSNL_keras/data_loader.py\", line 21, in load_train\n",
            "    npz = np.load(join(path,str(fold)+'.npz'))\n",
            "  File \"/usr/local/lib/python3.7/dist-packages/numpy/lib/npyio.py\", line 417, in load\n",
            "    fid = stack.enter_context(open(os_fspath(file), \"rb\"))\n",
            "FileNotFoundError: [Errno 2] No such file or directory: './download_dataset/data/eef_fpz_cz/4.npz'\n"
          ]
        }
      ]
    },
    {
      "cell_type": "code",
      "source": [
        ""
      ],
      "metadata": {
        "id": "KXzB6k0dNDJu"
      },
      "execution_count": null,
      "outputs": []
    }
  ],
  "metadata": {
    "kernelspec": {
      "display_name": "Python 3.8.10 64-bit",
      "language": "python",
      "name": "python3"
    },
    "language_info": {
      "name": "python",
      "version": "3.8.10"
    },
    "orig_nbformat": 4,
    "vscode": {
      "interpreter": {
        "hash": "916dbcbb3f70747c44a77c7bcd40155683ae19c65e1c03b4aa3499c5328201f1"
      }
    },
    "colab": {
      "name": "nb.ipynb",
      "provenance": []
    }
  },
  "nbformat": 4,
  "nbformat_minor": 0
}
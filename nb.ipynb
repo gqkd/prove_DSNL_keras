{
  "cells": [
    {
      "cell_type": "code",
      "execution_count": 8,
      "metadata": {
        "id": "Sylp3bolJmXg",
        "outputId": "256f5ee6-e281-41b4-b534-6e0df6c27827",
        "colab": {
          "base_uri": "https://localhost:8080/"
        }
      },
      "outputs": [
        {
          "output_type": "stream",
          "name": "stdout",
          "text": [
            "Drive already mounted at /content/drive; to attempt to forcibly remount, call drive.mount(\"/content/drive\", force_remount=True).\n",
            "Looking in indexes: https://pypi.org/simple, https://us-python.pkg.dev/colab-wheels/public/simple/\n",
            "Requirement already satisfied: mne==0.14 in /usr/local/lib/python3.7/dist-packages (0.14)\n",
            "[Errno 2] No such file or directory: 'drive/MyDrive/prove_DSNL_keras/'\n",
            "/content/drive/MyDrive/prove_DSNL_keras\n"
          ]
        }
      ],
      "source": [
        "from google.colab import drive\n",
        "drive.mount('/content/drive')\n",
        "import os\n",
        "%pip install mne==0.14\n",
        "%cd drive/MyDrive/prove_DSNL_keras/"
      ]
    },
    {
      "cell_type": "code",
      "source": [
        "# chmod +x download_physionet.sh\n",
        "# ./download_physionet.sh\n",
        "\n",
        "# python prepare_physionet_original.py --data_dir data --output_dir data/eeg_fpz_cz --select_ch 'EEG Fpz-Cz'\n",
        "# python prepare_physionet_original.py --data_dir data --output_dir data/eeg_pz_oz --select_ch 'EEG Pz-Oz'"
      ],
      "metadata": {
        "id": "dNUTA6GdJvYI"
      },
      "execution_count": null,
      "outputs": []
    },
    {
      "cell_type": "code",
      "source": [
        "!git pull https://github.com/gqkd/prove_DSNL_keras.git"
      ],
      "metadata": {
        "id": "Z4XerfCfLOey",
        "outputId": "9b95e429-f564-4faa-9f22-63132dfd2fbe",
        "colab": {
          "base_uri": "https://localhost:8080/"
        }
      },
      "execution_count": 10,
      "outputs": [
        {
          "output_type": "stream",
          "name": "stdout",
          "text": [
            "From https://github.com/gqkd/prove_DSNL_keras\n",
            " * branch            HEAD       -> FETCH_HEAD\n",
            "Updating 8a8f3ac..730b5fd\n",
            "error: Your local changes to the following files would be overwritten by merge:\n",
            "\ttrain.py\n",
            "Please commit your changes or stash them before you merge.\n",
            "Aborting\n"
          ]
        }
      ]
    },
    {
      "cell_type": "code",
      "source": [
        "!pwd"
      ],
      "metadata": {
        "id": "ZPHimjkrkQ9P",
        "outputId": "56633f40-12fe-438e-f6c8-b1b29ac91feb",
        "colab": {
          "base_uri": "https://localhost:8080/"
        }
      },
      "execution_count": 9,
      "outputs": [
        {
          "output_type": "stream",
          "name": "stdout",
          "text": [
            "/content/drive/MyDrive/prove_DSNL_keras\n"
          ]
        }
      ]
    },
    {
      "cell_type": "code",
      "source": [
        "pwd = os.getcwd()\n",
        "log_dir=\"/logs/base_fit/\"\n",
        "path = pwd + log_dir\n",
        "if not os.path.exists(path):\n",
        "    os.makedirs(path)"
      ],
      "metadata": {
        "id": "5lmcriQikYxk"
      },
      "execution_count": null,
      "outputs": []
    },
    {
      "cell_type": "code",
      "source": [
        "from data_prep import data_loader\n",
        "X_train, X_valid, y_train, y_valid = data_loader()"
      ],
      "metadata": {
        "id": "NrD7ogaNy8uk"
      },
      "execution_count": 11,
      "outputs": []
    },
    {
      "cell_type": "code",
      "source": [
        "from train import trainer\n",
        "\n",
        "history = trainer(X_train, X_valid, y_train, y_valid)\n"
      ],
      "metadata": {
        "id": "yLiDWSmoLl-5",
        "outputId": "1b48cf6e-0d58-46d0-9836-c42077efc406",
        "colab": {
          "base_uri": "https://localhost:8080/"
        }
      },
      "execution_count": 12,
      "outputs": [
        {
          "output_type": "stream",
          "name": "stdout",
          "text": [
            "Epoch 1/10\n",
            "352/352 [==============================] - 251s 705ms/step - loss: 2.2550 - acc: 0.5297 - val_loss: 4.3576 - val_acc: 0.4293\n",
            "Epoch 2/10\n",
            "352/352 [==============================] - 246s 700ms/step - loss: 1.2905 - acc: 0.6784 - val_loss: 7.1635 - val_acc: 0.4656\n",
            "Epoch 3/10\n",
            "352/352 [==============================] - 239s 679ms/step - loss: 1.0053 - acc: 0.7451 - val_loss: 5.2892 - val_acc: 0.3136\n",
            "Epoch 4/10\n",
            "352/352 [==============================] - 238s 675ms/step - loss: 0.8859 - acc: 0.7693 - val_loss: 22.9409 - val_acc: 0.1935\n",
            "Epoch 5/10\n",
            "352/352 [==============================] - 239s 678ms/step - loss: 0.8266 - acc: 0.7849 - val_loss: 7.8048 - val_acc: 0.1509\n",
            "Epoch 6/10\n",
            "352/352 [==============================] - 247s 702ms/step - loss: 0.7404 - acc: 0.7963 - val_loss: 30.6306 - val_acc: 0.1843\n",
            "Epoch 7/10\n",
            "352/352 [==============================] - 239s 679ms/step - loss: 0.7193 - acc: 0.7994 - val_loss: 56.7434 - val_acc: 0.1875\n",
            "Epoch 8/10\n",
            "352/352 [==============================] - 246s 700ms/step - loss: 0.7298 - acc: 0.8010 - val_loss: 3.0657 - val_acc: 0.5128\n",
            "Epoch 9/10\n",
            "352/352 [==============================] - 249s 706ms/step - loss: 0.6327 - acc: 0.8169 - val_loss: 11.4694 - val_acc: 0.2908\n",
            "Epoch 10/10\n",
            "352/352 [==============================] - 239s 679ms/step - loss: 0.5990 - acc: 0.8218 - val_loss: 9.6167 - val_acc: 0.1882\n",
            "INFO:tensorflow:Assets written to: /logs/base_fit/models/2022_07_04-1652/assets\n"
          ]
        }
      ]
    },
    {
      "cell_type": "code",
      "source": [
        ""
      ],
      "metadata": {
        "id": "KXzB6k0dNDJu"
      },
      "execution_count": null,
      "outputs": []
    }
  ],
  "metadata": {
    "kernelspec": {
      "display_name": "Python 3.8.10 64-bit",
      "language": "python",
      "name": "python3"
    },
    "language_info": {
      "name": "python",
      "version": "3.8.10"
    },
    "orig_nbformat": 4,
    "vscode": {
      "interpreter": {
        "hash": "916dbcbb3f70747c44a77c7bcd40155683ae19c65e1c03b4aa3499c5328201f1"
      }
    },
    "colab": {
      "name": "nb.ipynb",
      "provenance": []
    }
  },
  "nbformat": 4,
  "nbformat_minor": 0
}